{
 "cells": [
  {
   "cell_type": "markdown",
   "metadata": {},
   "source": [
    "# Introduction\n",
    "Having to skim through a large unknown codebase can be overwhelming. I hope to convey the essential points necessary to reproduce our results and understand the data to anyone who is interested in our work by providing some examples of how the code can be used.\n",
    "\n",
    "## Getting started\n",
    "- Make sure to download the datasets available via Zenodo [![DOI](https://zenodo.org/badge/DOI/10.5281/zenodo.10625021.svg)](https://doi.org/10.5281/zenodo.10625021).\n",
    "- Make sure to have a virtual environment installed and all dependencies required to run the code (see `installation`),\n",
    "- Make sure to configure `lib.config` to set `ROOT_DIR`, `DATA_DIR`, `OUTPUT_DIR` constants to tell the scripts where to locate the repository, the datasets and the output files."
   ]
  },
  {
   "cell_type": "markdown",
   "metadata": {},
   "source": [
    "## Code Example\n",
    "The main code is found in `lib` and contains all classes and methods necessary to evaluate the data. However, I provide some basic examples of code usage in the form of *jupyter notebooks*, like this file. It's a neat mixture of code and text, similar to a Mathematica Notebook. To get familiar with this format, look at the example below."
   ]
  },
  {
   "cell_type": "code",
   "execution_count": null,
   "metadata": {},
   "outputs": [],
   "source": [
    "#While we have used a text cell before, we now use a code cell.\n",
    "# Lets start with some imports to create a simple plot\n",
    "\n",
    "from matplotlib import rcParams, cycler\n",
    "import matplotlib.pyplot as plt\n",
    "import numpy as np\n",
    "plt.ion()"
   ]
  },
  {
   "cell_type": "markdown",
   "metadata": {},
   "source": [
    "Next, we create some sample data and plot the results."
   ]
  },
  {
   "cell_type": "code",
   "execution_count": null,
   "metadata": {},
   "outputs": [],
   "source": [
    "np.random.seed(19680801)# Fixing random state for reproducibility\n",
    "\n",
    "N = 10\n",
    "data = [np.logspace(0, 1, 100) + np.random.randn(100) + ii for ii in range(N)]\n",
    "data = np.array(data).T\n",
    "cmap = plt.cm.coolwarm\n",
    "rcParams['axes.prop_cycle'] = cycler(color=cmap(np.linspace(0, 1, N)))\n",
    "\n",
    "\n",
    "from matplotlib.lines import Line2D\n",
    "custom_lines = [Line2D([0], [0], color=cmap(0.), lw=4),\n",
    "                Line2D([0], [0], color=cmap(.5), lw=4),\n",
    "                Line2D([0], [0], color=cmap(1.), lw=4)]\n",
    "\n",
    "fig, ax = plt.subplots(figsize=(10, 5))\n",
    "lines = ax.plot(data)\n",
    "ax.legend(custom_lines, ['Cold', 'Medium', 'Hot'])"
   ]
  },
  {
   "cell_type": "markdown",
   "metadata": {},
   "source": [
    "The next pages will be structured in a similar way: there will be some description of what the code is used for, some exemplary code on how to use the routines and the embedded output of the scripts. Please consult the API docs for a more thorough overview."
   ]
  }
 ],
 "metadata": {
  "kernelspec": {
   "display_name": "Python 3",
   "language": "python",
   "name": "python3"
  },
  "language_info": {
   "codemirror_mode": {
    "name": "ipython",
    "version": 3
   },
   "file_extension": ".py",
   "mimetype": "text/x-python",
   "name": "python",
   "nbconvert_exporter": "python",
   "pygments_lexer": "ipython3",
   "version": "3.9.12"
  }
 },
 "nbformat": 4,
 "nbformat_minor": 4
}
